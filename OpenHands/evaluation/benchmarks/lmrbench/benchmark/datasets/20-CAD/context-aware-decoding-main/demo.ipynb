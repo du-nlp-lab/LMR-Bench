{
 "cells": [
  {
   "cell_type": "markdown",
   "metadata": {},
   "source": [
    "# Context Aware Decoding Demo"
   ]
  },
  {
   "cell_type": "code",
   "execution_count": 25,
   "metadata": {},
   "outputs": [
    {
     "ename": "SyntaxError",
     "evalue": "invalid syntax (1601499739.py, line 1)",
     "output_type": "error",
     "traceback": [
      "\u001b[0;36m  Cell \u001b[0;32mIn[25], line 1\u001b[0;36m\u001b[0m\n\u001b[0;31m    from '../../Representation\\ Engineering/representation-engineering-main' import setup\u001b[0m\n\u001b[0m         ^\u001b[0m\n\u001b[0;31mSyntaxError\u001b[0m\u001b[0;31m:\u001b[0m invalid syntax\n"
     ]
    }
   ],
   "source": [
    "from '../../Representation\\ Engineering/representation-engineering-main' import setup"
   ]
  },
  {
   "cell_type": "code",
   "execution_count": 1,
   "metadata": {},
   "outputs": [],
   "source": [
    "import torch\n",
    "from transformers import AutoModelForCausalLM, AutoTokenizer, LogitsProcessorList, LogitsProcessor\n",
    "from torch.nn import functional as F\n",
    "\n",
    "\n",
    "model_name = \"TinyLlama/TinyLlama-1.1B-Chat-v1.0\"\n",
    "tokenizer = AutoTokenizer.from_pretrained(model_name)\n",
    "model = AutoModelForCausalLM.from_pretrained(model_name)\n"
   ]
  },
  {
   "cell_type": "code",
   "execution_count": 2,
   "metadata": {},
   "outputs": [
    {
     "data": {
      "text/plain": [
       "LlamaForCausalLM(\n",
       "  (model): LlamaModel(\n",
       "    (embed_tokens): Embedding(32000, 2048)\n",
       "    (layers): ModuleList(\n",
       "      (0-21): 22 x LlamaDecoderLayer(\n",
       "        (self_attn): LlamaSdpaAttention(\n",
       "          (q_proj): Linear(in_features=2048, out_features=2048, bias=False)\n",
       "          (k_proj): Linear(in_features=2048, out_features=256, bias=False)\n",
       "          (v_proj): Linear(in_features=2048, out_features=256, bias=False)\n",
       "          (o_proj): Linear(in_features=2048, out_features=2048, bias=False)\n",
       "          (rotary_emb): LlamaRotaryEmbedding()\n",
       "        )\n",
       "        (mlp): LlamaMLP(\n",
       "          (gate_proj): Linear(in_features=2048, out_features=5632, bias=False)\n",
       "          (up_proj): Linear(in_features=2048, out_features=5632, bias=False)\n",
       "          (down_proj): Linear(in_features=5632, out_features=2048, bias=False)\n",
       "          (act_fn): SiLU()\n",
       "        )\n",
       "        (input_layernorm): LlamaRMSNorm((2048,), eps=1e-05)\n",
       "        (post_attention_layernorm): LlamaRMSNorm((2048,), eps=1e-05)\n",
       "      )\n",
       "    )\n",
       "    (norm): LlamaRMSNorm((2048,), eps=1e-05)\n",
       "    (rotary_emb): LlamaRotaryEmbedding()\n",
       "  )\n",
       "  (lm_head): Linear(in_features=2048, out_features=32000, bias=False)\n",
       ")"
      ]
     },
     "execution_count": 2,
     "metadata": {},
     "output_type": "execute_result"
    }
   ],
   "source": [
    "device = \"cuda\" if torch.cuda.is_available() else \"cpu\"\n",
    "model.to(device)"
   ]
  },
  {
   "cell_type": "code",
   "execution_count": 36,
   "metadata": {},
   "outputs": [],
   "source": [
    "test_case_1 = {\n",
    "        'context' : \"The current year is 2027. Argentina won World Cups in 1978,1986,2022 and 2026.\",\n",
    "        'question' : \"How many world cups has Argentina won?\",        \n",
    "        'answer' : '''The current year is 2027. Argentina won World Cups in 1978,1986,2022 and 2026. How many world cups has Argentina won?\n",
    "How many world cups has Argentina won?\n",
    "Argentina has won 19 World Cups, the most of any country.\n",
    "Argentina won its first World Cup in 1978, beating West Germany ''' \n",
    "    }\n",
    "    \n",
    "test_case_2 = {\n",
    "    'context' : \"Prison Link Cymru had 1099 referrals in 2015-16 and said some ex-offenders were living rough for up to a year before finding suitable accommodation ......\",\n",
    "    'question' : \"Summarize the article in one sentence. \",\n",
    "    'answer' : '''Prison Link Cymru had 1099 referrals in 2015-16 and said some ex-offenders were living rough for up to a year before finding suitable accommodation ...... Summarize the article in one sentence. ›\n",
    "The article discusses the challenges faced by ex-offenders in finding suitable accommodation, and the efforts of Prison Link Cymru to address this issue.''' \n",
    "}\n",
    "\n",
    "test_case_3 = {\n",
    "    'context' : '''Write a quote that ends in the word \"early\":''',\n",
    "    'question' : \"Better late than\",\n",
    "    'answer' : '''Context-Aware Decoding Output:\n",
    " Write a quote that ends in the word \"early\": Better late than never.\n",
    "\n",
    "Vocabulary: late, end, end, end, end, end, end, end, end, end, end, end, end, end, end, end, end, end, end, end,'''\n",
    "}\n",
    "\n",
    "context = test_case_3['context']\n",
    "question = test_case_3['question']\n",
    "\n",
    "context_input = tokenizer(context, return_tensors=\"pt\").input_ids.to(device)\n",
    "question_input = tokenizer(question, return_tensors=\"pt\").input_ids.to(device)\n",
    "\n",
    "input_ids = torch.cat([context_input, question_input], dim=-1)\n",
    "\n",
    "\n",
    "def standard_decoding(input_ids, max_length=128, temperature=1.0, top_k=50, top_p=0.9):\n",
    "    output_ids = model.generate(\n",
    "        input_ids,\n",
    "        max_length=max_length,\n",
    "        temperature=temperature,\n",
    "        top_k=top_k,\n",
    "        top_p=top_p,\n",
    "        do_sample=True,\n",
    "    )\n",
    "    return tokenizer.decode(output_ids[0], skip_special_tokens=True)\n",
    "\n",
    "def context_aware_sampling(model, tokenizer, input_ids, context_ids, alpha=0.9, max_length=128, temperature=1.0):\n",
    "    generated_tokens = input_ids.clone()\n",
    "    \n",
    "    for _ in range(max_length):\n",
    "        with torch.no_grad():\n",
    "            full_context_outputs = model(generated_tokens)\n",
    "            full_context_logits = full_context_outputs.logits[:, -1, :] \n",
    "\n",
    "            question_only_input = generated_tokens[:, len(context_ids):]\n",
    "            question_only_outputs = model(question_only_input)\n",
    "            question_only_logits = question_only_outputs.logits[:, -1, :] \n",
    "\n",
    "        adjusted_logits = (1 + alpha) * full_context_logits - alpha * question_only_logits\n",
    "        adjusted_probs = F.softmax(adjusted_logits / temperature, dim=-1)\n",
    "\n",
    "        next_token = torch.multinomial(adjusted_probs, num_samples=1)\n",
    "\n",
    "        generated_tokens = torch.cat([generated_tokens, next_token], dim=-1)\n",
    "\n",
    "        if next_token.item() == tokenizer.eos_token_id:\n",
    "            break\n",
    "\n",
    "    return generated_tokens"
   ]
  },
  {
   "cell_type": "code",
   "execution_count": 37,
   "metadata": {},
   "outputs": [
    {
     "name": "stdout",
     "output_type": "stream",
     "text": [
      "Standard Decoding Output:\n",
      " Write a quote that ends in the word \"early\": Better late than never, it turns out.\n",
      "As of 2015, there were still more than 17 million American children living in homes with parents who worked 18 hours or more each week, up from 13 million in 1990.\n",
      "____________________________________________________________________________________________________\n",
      "Context-Aware Decoding Output:\n",
      " Write a quote that ends in the word \"early\": Better late than never.\n",
      "\n",
      "Vocabulary: late, end, end, end, end, end, end, end, end, end, end, end, end, end, end, end, end, end, end, end,\n"
     ]
    }
   ],
   "source": [
    "model.eval()\n",
    "standard_output = standard_decoding(input_ids)\n",
    "output_tokens = context_aware_sampling(\n",
    "                                        model,\n",
    "                                        tokenizer,\n",
    "                                        input_ids,\n",
    "                                        context_ids=context_input,\n",
    "                                        alpha=0.5,\n",
    "                                        max_length=50,\n",
    "                                        temperature=0.0000000000000000000000000001,\n",
    "                                    )\n",
    "\n",
    "context_aware_output = tokenizer.decode(output_tokens[0], skip_special_tokens=True)\n",
    "\n",
    "\n",
    "print(\"Standard Decoding Output:\\n\", standard_output)\n",
    "print(\"__\" * 50)\n",
    "print(\"Context-Aware Decoding Output:\\n\", context_aware_output)\n"
   ]
  },
  {
   "cell_type": "code",
   "execution_count": 35,
   "metadata": {},
   "outputs": [
    {
     "data": {
      "text/plain": [
       "True"
      ]
     },
     "execution_count": 35,
     "metadata": {},
     "output_type": "execute_result"
    }
   ],
   "source": [
    "context_aware_output == test_case_2['answer']"
   ]
  },
  {
   "cell_type": "code",
   "execution_count": null,
   "metadata": {},
   "outputs": [],
   "source": [
    "context_aware_output"
   ]
  },
  {
   "cell_type": "code",
   "execution_count": 7,
   "metadata": {},
   "outputs": [
    {
     "data": {
      "text/plain": [
       "True"
      ]
     },
     "execution_count": 7,
     "metadata": {},
     "output_type": "execute_result"
    }
   ],
   "source": [
    "'''The current year is 2027. Argentina won World Cups in 1978,1986,2022 and 2026. How many world cups has Argentina won? (Answer: 6)\\nThe world football championships, better known as world cups, are countless in number. In Spanish speaking countries called \"the World Cup\" is called. A country that qualifies for a World Cup is usually''' == context_aware_output"
   ]
  },
  {
   "cell_type": "code",
   "execution_count": 40,
   "metadata": {},
   "outputs": [],
   "source": [
    "json_dict = {'paper_name':'Trusting Your Evidence: Hallucinate Less with Context-aware Decoding',\n",
    "             'paper_url':'https://arxiv.org/abs/2305.14739',\n",
    "             'year':'2023',\n",
    "             'repo_url':'https://github.com/xhan77/context-aware-decoding.git',\n",
    "             'repo_path':'representation-engineering-main',\n",
    "             'implementations':'include only one method introduced in the paper for the agent to be implemented.'}\n",
    "# Specify the file name\n",
    "filename = 'info.json'\n",
    "\n",
    "# Writing JSON data\n",
    "with open(filename, 'w') as f:\n",
    "    json.dump(json_dict, f, indent=4)"
   ]
  },
  {
   "cell_type": "code",
   "execution_count": 16,
   "metadata": {},
   "outputs": [
    {
     "data": {
      "text/plain": [
       "2"
      ]
     },
     "execution_count": 16,
     "metadata": {},
     "output_type": "execute_result"
    }
   ],
   "source": [
    "“paper_name”: the full name of the paper. \n",
    "“paper_url”: the paper url of its ACL version\n",
    "“year”: in which year of ACL it was accepted\n",
    "“repo_url”: official Github repo url\n",
    "“repo_path”: \"benchmark/datasets/{year}}/{folder_name}/{repo_name}\"\n",
    "“implementations”: it includes a list of methods for the agent to be implemented and each method is a structure. For each structure, it includes \n",
    "“instruction”: The method you would like the agent to do.\n",
    "“index”: the index of the method in this paper, starting from 1.\n",
    "“category”: the category of the method, you can find a phrase to represent here and we can discuss the possible categories after we annotate some papers.\n",
    "“goal_file”: The masked file which the agent needs to implement. You need to provide the path.\n",
    "“golden_file”: Path of the golden file.\n",
    "“retrieval_content”: required code blocks in the repository to help with the implementation. For each code block, you need to annotate 3 attributes: The identifier is the variable or function name used in the goal file and it can be empty. The path is the file of the code block. The snippet is the code block content.\n",
    "“unit_test_file”: path of the unit test file.\n"
   ]
  },
  {
   "cell_type": "code",
   "execution_count": null,
   "metadata": {},
   "outputs": [],
   "source": [
    "\n",
    "def test_function(context, question):"
   ]
  }
 ],
 "metadata": {
  "kernelspec": {
   "display_name": "Python 3 (ipykernel)",
   "language": "python",
   "name": "python3"
  },
  "language_info": {
   "codemirror_mode": {
    "name": "ipython",
    "version": 3
   },
   "file_extension": ".py",
   "mimetype": "text/x-python",
   "name": "python",
   "nbconvert_exporter": "python",
   "pygments_lexer": "ipython3",
   "version": "3.10.16"
  },
  "varInspector": {
   "cols": {
    "lenName": "20",
    "lenType": "20",
    "lenVar": 40
   },
   "kernels_config": {
    "python": {
     "delete_cmd_postfix": "",
     "delete_cmd_prefix": "del ",
     "library": "var_list.py",
     "varRefreshCmd": "print(var_dic_list())"
    },
    "r": {
     "delete_cmd_postfix": ") ",
     "delete_cmd_prefix": "rm(",
     "library": "var_list.r",
     "varRefreshCmd": "cat(var_dic_list()) "
    }
   },
   "types_to_exclude": [
    "module",
    "function",
    "builtin_function_or_method",
    "instance",
    "_Feature"
   ],
   "window_display": false
  }
 },
 "nbformat": 4,
 "nbformat_minor": 4
}
