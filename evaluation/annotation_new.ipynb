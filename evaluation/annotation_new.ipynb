{
 "cells": [
  {
   "cell_type": "code",
   "execution_count": 1,
   "id": "222f241d-32e7-41f4-8abf-38e155370613",
   "metadata": {},
   "outputs": [],
   "source": [
    "annotator_name = 'kaiyu'\n",
    "base_dict = {\n",
    "    'annotator': annotator_name,\n",
    "    'agent_type': None, #'no_agent' or 'openhands_agent',\n",
    "    'model_name': None,\n",
    "    'paper_index': None,\n",
    "    'function_index': None,\n",
    "    'human_judge_result': None,  #1 or 2 or 3,   # 1: incorrect 2: almost_correct, 3: correct\n",
    "    'comment': None\n",
    "}\n",
    "# Dropped paper: 10 12 17 21 24 26 27 29 32\n",
    "# Dropped paper: 10 12 17 21 24 26 27 29 32\n",
    "# Dropped paper: 10 12 17 21 24 26 27 29 32\n",
    "\n",
    "# annotation 流程\n",
    "## 1, 打开paper的文件夹例如 /home/sxy240002/research_agent/NLPBench/outputs/BaseAgent/gpt4.1/1-DPO\n",
    "## 2, 打开info.json 查看implementations(根据标注的function数量可能有多项),打开xinya服务器(csr-93596)路径 /home/sxy240002/research_agent/NLPBench/outputs/\n"
   ]
  },
  {
   "cell_type": "code",
   "execution_count": 2,
   "id": "845692ee-6b09-48cb-90c7-acf6c66112f1",
   "metadata": {},
   "outputs": [
    {
     "data": {
      "text/plain": [
       "23"
      ]
     },
     "execution_count": 2,
     "metadata": {},
     "output_type": "execute_result"
    }
   ],
   "source": [
    "# paper allocation\n",
    "Kaiyu = [1,2,3,4,5,6]\n",
    "Daoyang = [13, 14, 15, 16, 18]\n",
    "Shuo  = [7, 8, 9,11,30,31]\n",
    "Ziming = [19,20,22,23,25,28]\n",
    "len(Kaiyu) + len(Daoyang) + len(Shuo) + len(Ziming)"
   ]
  },
  {
   "cell_type": "code",
   "execution_count": 3,
   "id": "fb75b8a9-2d18-41b8-918a-0d19c397bb9c",
   "metadata": {},
   "outputs": [],
   "source": [
    "all_results = []"
   ]
  },
  {
   "cell_type": "code",
   "execution_count": 4,
   "id": "a75d8860-ac26-43b9-b3c7-d4925817d555",
   "metadata": {},
   "outputs": [],
   "source": [
    "def annotate_one_function():\n",
    "    return_dict = base_dict.copy()\n",
    "    assert return_dict['annotator'] != 'kaiyu', 'change this into your own name'\n",
    "    for key in return_dict.keys():\n",
    "        if key == 'agent_type':\n",
    "            agent_type = input('''Current agent type: copy paste from no_agent or openhands_agent''')\n",
    "            assert agent_type in ['no_agent', 'openhands_agent'], 'Input error'\n",
    "        elif key == 'model_name':\n",
    "            model_name = input('''Current llm model name: copy from gpt4.1, gpt4o, o4mini''')\n",
    "            assert model_name in ['gpt4.1', 'gpt4o', 'o4mini'], 'no such model'\n",
    "        elif key == 'paper_index':\n",
    "            paper_index = input('''Current paper your are annotating, input an int starts from 1''')\n",
    "            paper_index = int(paper_index)\n",
    "            assert paper_index not in [10, 12, 17, 21, 24, 26, 27, 29, 32], 'invalid paper index or dropped paper'\n",
    "        elif key == 'function_index':\n",
    "            function_index = input('''Current function index input an int starts from 0''')\n",
    "            function_index = int(function_index)\n",
    "        elif key == 'human_judge_result':\n",
    "            human_judge_result = input('''You think implementation of the function is 1:incorrect, 2:almost correct, 3:correct ''')\n",
    "            human_judge_result = int(human_judge_result)\n",
    "            human_judge_result in [1,2,3], '''please input 1, 2 or 3'''\n",
    "        elif key == 'comment':\n",
    "            comment = input('''Input any commont here if not leave it blank''')\n",
    "    return_dict['agent_type'] = agent_type\n",
    "    return_dict['model_name'] = model_name\n",
    "    return_dict['paper_index'] = paper_index\n",
    "    return_dict['function_index'] = function_index\n",
    "    return_dict['human_judge_result'] = human_judge_result\n",
    "    return_dict['comment'] = comment\n",
    "    print(return_dict)\n",
    "    confirm = input('please check your result, if you confirm the result please input 1, if you want to reject input 2')\n",
    "    assert confirm != None, 'please confirm'\n",
    "    if confirm == '1':\n",
    "        all_results.append(return_dict)"
   ]
  },
  {
   "cell_type": "code",
   "execution_count": 5,
   "id": "345b6162-320a-4ecd-a868-a9ce344fff16",
   "metadata": {},
   "outputs": [
    {
     "ename": "AssertionError",
     "evalue": "change this into your own name",
     "output_type": "error",
     "traceback": [
      "\u001b[1;31m---------------------------------------------------------------------------\u001b[0m",
      "\u001b[1;31mAssertionError\u001b[0m                            Traceback (most recent call last)",
      "\u001b[1;32m~\\AppData\\Local\\Temp\\ipykernel_23492\\2567612018.py\u001b[0m in \u001b[0;36m<module>\u001b[1;34m\u001b[0m\n\u001b[1;32m----> 1\u001b[1;33m \u001b[0mannotate_one_function\u001b[0m\u001b[1;33m(\u001b[0m\u001b[1;33m)\u001b[0m\u001b[1;33m\u001b[0m\u001b[1;33m\u001b[0m\u001b[0m\n\u001b[0m",
      "\u001b[1;32m~\\AppData\\Local\\Temp\\ipykernel_23492\\135874950.py\u001b[0m in \u001b[0;36mannotate_one_function\u001b[1;34m()\u001b[0m\n\u001b[0;32m      1\u001b[0m \u001b[1;32mdef\u001b[0m \u001b[0mannotate_one_function\u001b[0m\u001b[1;33m(\u001b[0m\u001b[1;33m)\u001b[0m\u001b[1;33m:\u001b[0m\u001b[1;33m\u001b[0m\u001b[1;33m\u001b[0m\u001b[0m\n\u001b[0;32m      2\u001b[0m     \u001b[0mreturn_dict\u001b[0m \u001b[1;33m=\u001b[0m \u001b[0mbase_dict\u001b[0m\u001b[1;33m.\u001b[0m\u001b[0mcopy\u001b[0m\u001b[1;33m(\u001b[0m\u001b[1;33m)\u001b[0m\u001b[1;33m\u001b[0m\u001b[1;33m\u001b[0m\u001b[0m\n\u001b[1;32m----> 3\u001b[1;33m     \u001b[1;32massert\u001b[0m \u001b[0mreturn_dict\u001b[0m\u001b[1;33m[\u001b[0m\u001b[1;34m'annotator'\u001b[0m\u001b[1;33m]\u001b[0m \u001b[1;33m!=\u001b[0m \u001b[1;34m'kaiyu'\u001b[0m\u001b[1;33m,\u001b[0m \u001b[1;34m'change this into your own name'\u001b[0m\u001b[1;33m\u001b[0m\u001b[1;33m\u001b[0m\u001b[0m\n\u001b[0m\u001b[0;32m      4\u001b[0m     \u001b[1;32mfor\u001b[0m \u001b[0mkey\u001b[0m \u001b[1;32min\u001b[0m \u001b[0mreturn_dict\u001b[0m\u001b[1;33m.\u001b[0m\u001b[0mkeys\u001b[0m\u001b[1;33m(\u001b[0m\u001b[1;33m)\u001b[0m\u001b[1;33m:\u001b[0m\u001b[1;33m\u001b[0m\u001b[1;33m\u001b[0m\u001b[0m\n\u001b[0;32m      5\u001b[0m         \u001b[1;32mif\u001b[0m \u001b[0mkey\u001b[0m \u001b[1;33m==\u001b[0m \u001b[1;34m'agent_type'\u001b[0m\u001b[1;33m:\u001b[0m\u001b[1;33m\u001b[0m\u001b[1;33m\u001b[0m\u001b[0m\n",
      "\u001b[1;31mAssertionError\u001b[0m: change this into your own name"
     ]
    }
   ],
   "source": [
    "annotate_one_function()"
   ]
  },
  {
   "cell_type": "code",
   "execution_count": 10,
   "id": "715e9630-f533-4abe-89fc-85b78387ec47",
   "metadata": {},
   "outputs": [
    {
     "data": {
      "text/plain": [
       "[{'annotator': 'kaiyu',\n",
       "  'agent_type': 'no_agent',\n",
       "  'model_name': 'gpt4.1',\n",
       "  'paper_index': 1,\n",
       "  'function_index': 0,\n",
       "  'human_judge_result': 2,\n",
       "  'comment': 'agent not consider the situation when reference_free is set to true and pratially complete the function'},\n",
       " {'annotator': 'kaiyu',\n",
       "  'agent_type': 'no_agent',\n",
       "  'model_name': 'o4mini',\n",
       "  'paper_index': 1,\n",
       "  'function_index': 1,\n",
       "  'human_judge_result': 1,\n",
       "  'comment': '1'}]"
      ]
     },
     "execution_count": 10,
     "metadata": {},
     "output_type": "execute_result"
    }
   ],
   "source": [
    "all_results"
   ]
  },
  {
   "cell_type": "code",
   "execution_count": null,
   "id": "aa6bcd9b-e8fd-4bde-bc57-cc1e48edce92",
   "metadata": {},
   "outputs": [],
   "source": [
    "# Save the all_results"
   ]
  }
 ],
 "metadata": {
  "kernelspec": {
   "display_name": "Python 3 (ipykernel)",
   "language": "python",
   "name": "python3"
  },
  "language_info": {
   "codemirror_mode": {
    "name": "ipython",
    "version": 3
   },
   "file_extension": ".py",
   "mimetype": "text/x-python",
   "name": "python",
   "nbconvert_exporter": "python",
   "pygments_lexer": "ipython3",
   "version": "3.9.13"
  }
 },
 "nbformat": 4,
 "nbformat_minor": 5
}
